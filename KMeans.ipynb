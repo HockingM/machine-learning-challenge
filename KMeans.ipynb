{
 "cells": [
  {
   "cell_type": "code",
   "execution_count": 40,
   "metadata": {},
   "outputs": [],
   "source": [
    "import  pandas as pd\n",
    "import matplotlib.pyplot as plt\n",
    "import numpy as np\n",
    "import seaborn as sns\n",
    "\n",
    "from sklearn.model_selection import train_test_split\n",
    "from sklearn.preprocessing import MinMaxScaler\n",
    "from sklearn.metrics import classification_report\n",
    "from sklearn.neighbors import KNeighborsClassifier\n",
    "from sklearn.model_selection import GridSearchCV\n",
    "from sklearn.model_selection import RepeatedStratifiedKFold\n"
   ]
  },
  {
   "cell_type": "markdown",
   "metadata": {},
   "source": [
    "# Read the CSV and Perform Basic Data Cleaning"
   ]
  },
  {
   "cell_type": "code",
   "execution_count": 41,
   "metadata": {},
   "outputs": [
    {
     "data": {
      "text/html": [
       "<div>\n",
       "<style scoped>\n",
       "    .dataframe tbody tr th:only-of-type {\n",
       "        vertical-align: middle;\n",
       "    }\n",
       "\n",
       "    .dataframe tbody tr th {\n",
       "        vertical-align: top;\n",
       "    }\n",
       "\n",
       "    .dataframe thead th {\n",
       "        text-align: right;\n",
       "    }\n",
       "</style>\n",
       "<table border=\"1\" class=\"dataframe\">\n",
       "  <thead>\n",
       "    <tr style=\"text-align: right;\">\n",
       "      <th></th>\n",
       "      <th>koi_disposition</th>\n",
       "      <th>koi_fpflag_nt</th>\n",
       "      <th>koi_fpflag_ss</th>\n",
       "      <th>koi_fpflag_co</th>\n",
       "      <th>koi_fpflag_ec</th>\n",
       "      <th>koi_period</th>\n",
       "      <th>koi_period_err1</th>\n",
       "      <th>koi_period_err2</th>\n",
       "      <th>koi_time0bk</th>\n",
       "      <th>koi_time0bk_err1</th>\n",
       "      <th>...</th>\n",
       "      <th>koi_steff_err2</th>\n",
       "      <th>koi_slogg</th>\n",
       "      <th>koi_slogg_err1</th>\n",
       "      <th>koi_slogg_err2</th>\n",
       "      <th>koi_srad</th>\n",
       "      <th>koi_srad_err1</th>\n",
       "      <th>koi_srad_err2</th>\n",
       "      <th>ra</th>\n",
       "      <th>dec</th>\n",
       "      <th>koi_kepmag</th>\n",
       "    </tr>\n",
       "  </thead>\n",
       "  <tbody>\n",
       "    <tr>\n",
       "      <th>0</th>\n",
       "      <td>CONFIRMED</td>\n",
       "      <td>0</td>\n",
       "      <td>0</td>\n",
       "      <td>0</td>\n",
       "      <td>0</td>\n",
       "      <td>54.418383</td>\n",
       "      <td>2.479000e-04</td>\n",
       "      <td>-2.479000e-04</td>\n",
       "      <td>162.513840</td>\n",
       "      <td>0.003520</td>\n",
       "      <td>...</td>\n",
       "      <td>-81</td>\n",
       "      <td>4.467</td>\n",
       "      <td>0.064</td>\n",
       "      <td>-0.096</td>\n",
       "      <td>0.927</td>\n",
       "      <td>0.105</td>\n",
       "      <td>-0.061</td>\n",
       "      <td>291.93423</td>\n",
       "      <td>48.141651</td>\n",
       "      <td>15.347</td>\n",
       "    </tr>\n",
       "    <tr>\n",
       "      <th>1</th>\n",
       "      <td>FALSE POSITIVE</td>\n",
       "      <td>0</td>\n",
       "      <td>1</td>\n",
       "      <td>0</td>\n",
       "      <td>0</td>\n",
       "      <td>19.899140</td>\n",
       "      <td>1.490000e-05</td>\n",
       "      <td>-1.490000e-05</td>\n",
       "      <td>175.850252</td>\n",
       "      <td>0.000581</td>\n",
       "      <td>...</td>\n",
       "      <td>-176</td>\n",
       "      <td>4.544</td>\n",
       "      <td>0.044</td>\n",
       "      <td>-0.176</td>\n",
       "      <td>0.868</td>\n",
       "      <td>0.233</td>\n",
       "      <td>-0.078</td>\n",
       "      <td>297.00482</td>\n",
       "      <td>48.134129</td>\n",
       "      <td>15.436</td>\n",
       "    </tr>\n",
       "    <tr>\n",
       "      <th>2</th>\n",
       "      <td>FALSE POSITIVE</td>\n",
       "      <td>0</td>\n",
       "      <td>1</td>\n",
       "      <td>0</td>\n",
       "      <td>0</td>\n",
       "      <td>1.736952</td>\n",
       "      <td>2.630000e-07</td>\n",
       "      <td>-2.630000e-07</td>\n",
       "      <td>170.307565</td>\n",
       "      <td>0.000115</td>\n",
       "      <td>...</td>\n",
       "      <td>-174</td>\n",
       "      <td>4.564</td>\n",
       "      <td>0.053</td>\n",
       "      <td>-0.168</td>\n",
       "      <td>0.791</td>\n",
       "      <td>0.201</td>\n",
       "      <td>-0.067</td>\n",
       "      <td>285.53461</td>\n",
       "      <td>48.285210</td>\n",
       "      <td>15.597</td>\n",
       "    </tr>\n",
       "    <tr>\n",
       "      <th>3</th>\n",
       "      <td>CONFIRMED</td>\n",
       "      <td>0</td>\n",
       "      <td>0</td>\n",
       "      <td>0</td>\n",
       "      <td>0</td>\n",
       "      <td>2.525592</td>\n",
       "      <td>3.760000e-06</td>\n",
       "      <td>-3.760000e-06</td>\n",
       "      <td>171.595550</td>\n",
       "      <td>0.001130</td>\n",
       "      <td>...</td>\n",
       "      <td>-211</td>\n",
       "      <td>4.438</td>\n",
       "      <td>0.070</td>\n",
       "      <td>-0.210</td>\n",
       "      <td>1.046</td>\n",
       "      <td>0.334</td>\n",
       "      <td>-0.133</td>\n",
       "      <td>288.75488</td>\n",
       "      <td>48.226200</td>\n",
       "      <td>15.509</td>\n",
       "    </tr>\n",
       "    <tr>\n",
       "      <th>4</th>\n",
       "      <td>CONFIRMED</td>\n",
       "      <td>0</td>\n",
       "      <td>0</td>\n",
       "      <td>0</td>\n",
       "      <td>0</td>\n",
       "      <td>4.134435</td>\n",
       "      <td>1.050000e-05</td>\n",
       "      <td>-1.050000e-05</td>\n",
       "      <td>172.979370</td>\n",
       "      <td>0.001900</td>\n",
       "      <td>...</td>\n",
       "      <td>-232</td>\n",
       "      <td>4.486</td>\n",
       "      <td>0.054</td>\n",
       "      <td>-0.229</td>\n",
       "      <td>0.972</td>\n",
       "      <td>0.315</td>\n",
       "      <td>-0.105</td>\n",
       "      <td>296.28613</td>\n",
       "      <td>48.224670</td>\n",
       "      <td>15.714</td>\n",
       "    </tr>\n",
       "  </tbody>\n",
       "</table>\n",
       "<p>5 rows × 41 columns</p>\n",
       "</div>"
      ],
      "text/plain": [
       "  koi_disposition  koi_fpflag_nt  koi_fpflag_ss  koi_fpflag_co  koi_fpflag_ec  \\\n",
       "0       CONFIRMED              0              0              0              0   \n",
       "1  FALSE POSITIVE              0              1              0              0   \n",
       "2  FALSE POSITIVE              0              1              0              0   \n",
       "3       CONFIRMED              0              0              0              0   \n",
       "4       CONFIRMED              0              0              0              0   \n",
       "\n",
       "   koi_period  koi_period_err1  koi_period_err2  koi_time0bk  \\\n",
       "0   54.418383     2.479000e-04    -2.479000e-04   162.513840   \n",
       "1   19.899140     1.490000e-05    -1.490000e-05   175.850252   \n",
       "2    1.736952     2.630000e-07    -2.630000e-07   170.307565   \n",
       "3    2.525592     3.760000e-06    -3.760000e-06   171.595550   \n",
       "4    4.134435     1.050000e-05    -1.050000e-05   172.979370   \n",
       "\n",
       "   koi_time0bk_err1  ...  koi_steff_err2  koi_slogg  koi_slogg_err1  \\\n",
       "0          0.003520  ...             -81      4.467           0.064   \n",
       "1          0.000581  ...            -176      4.544           0.044   \n",
       "2          0.000115  ...            -174      4.564           0.053   \n",
       "3          0.001130  ...            -211      4.438           0.070   \n",
       "4          0.001900  ...            -232      4.486           0.054   \n",
       "\n",
       "   koi_slogg_err2  koi_srad  koi_srad_err1  koi_srad_err2         ra  \\\n",
       "0          -0.096     0.927          0.105         -0.061  291.93423   \n",
       "1          -0.176     0.868          0.233         -0.078  297.00482   \n",
       "2          -0.168     0.791          0.201         -0.067  285.53461   \n",
       "3          -0.210     1.046          0.334         -0.133  288.75488   \n",
       "4          -0.229     0.972          0.315         -0.105  296.28613   \n",
       "\n",
       "         dec  koi_kepmag  \n",
       "0  48.141651      15.347  \n",
       "1  48.134129      15.436  \n",
       "2  48.285210      15.597  \n",
       "3  48.226200      15.509  \n",
       "4  48.224670      15.714  \n",
       "\n",
       "[5 rows x 41 columns]"
      ]
     },
     "execution_count": 41,
     "metadata": {},
     "output_type": "execute_result"
    }
   ],
   "source": [
    "df = pd.read_csv(\"data/exoplanet_data.csv\")\n",
    "# Drop the null columns where all values are null\n",
    "df = df.dropna(axis='columns', how='all')\n",
    "# Drop the null rows\n",
    "df = df.dropna()\n",
    "df.head()"
   ]
  },
  {
   "cell_type": "markdown",
   "metadata": {},
   "source": [
    "# Select your features (columns)"
   ]
  },
  {
   "cell_type": "code",
   "execution_count": null,
   "metadata": {},
   "outputs": [],
   "source": [
    "df.describe()"
   ]
  },
  {
   "cell_type": "code",
   "execution_count": 29,
   "metadata": {},
   "outputs": [
    {
     "data": {
      "text/plain": [
       "<AxesSubplot:>"
      ]
     },
     "execution_count": 29,
     "metadata": {},
     "output_type": "execute_result"
    },
    {
     "data": {
      "image/png": "[encoded data removed]",
      "text/plain": [
       "<Figure size 432x288 with 2 Axes>"
      ]
     },
     "metadata": {
      "needs_background": "light"
     },
     "output_type": "display_data"
    }
   ],
   "source": [
    "sns.heatmap(df.corr(), cmap='RdYlGn')"
   ]
  },
  {
   "cell_type": "code",
   "execution_count": 36,
   "metadata": {},
   "outputs": [],
   "source": [
    "selected_features = df[[\"koi_period\",\"koi_period_err1\",\"koi_period_err2\",\"koi_time0bk\",\"koi_time0bk_err1\",\n",
    "                     \"koi_steff_err2\",\"koi_slogg\",\"koi_slogg_err1\",\"koi_slogg_err2\",\"koi_srad\",\n",
    "                     \"koi_srad_err1\",\"koi_srad_err2\",\"ra\",\"dec\",\"koi_kepmag\"]]"
   ]
  },
  {
   "cell_type": "code",
   "execution_count": 37,
   "metadata": {},
   "outputs": [
    {
     "data": {
      "text/html": [
       "<div>\n",
       "<style scoped>\n",
       "    .dataframe tbody tr th:only-of-type {\n",
       "        vertical-align: middle;\n",
       "    }\n",
       "\n",
       "    .dataframe tbody tr th {\n",
       "        vertical-align: top;\n",
       "    }\n",
       "\n",
       "    .dataframe thead th {\n",
       "        text-align: right;\n",
       "    }\n",
       "</style>\n",
       "<table border=\"1\" class=\"dataframe\">\n",
       "  <thead>\n",
       "    <tr style=\"text-align: right;\">\n",
       "      <th></th>\n",
       "      <th>koi_period</th>\n",
       "      <th>koi_period_err1</th>\n",
       "      <th>koi_period_err2</th>\n",
       "      <th>koi_time0bk</th>\n",
       "      <th>koi_time0bk_err1</th>\n",
       "      <th>koi_steff_err2</th>\n",
       "      <th>koi_slogg</th>\n",
       "      <th>koi_slogg_err1</th>\n",
       "      <th>koi_slogg_err2</th>\n",
       "      <th>koi_srad</th>\n",
       "      <th>koi_srad_err1</th>\n",
       "      <th>koi_srad_err2</th>\n",
       "      <th>ra</th>\n",
       "      <th>dec</th>\n",
       "      <th>koi_kepmag</th>\n",
       "    </tr>\n",
       "  </thead>\n",
       "  <tbody>\n",
       "    <tr>\n",
       "      <th>koi_period</th>\n",
       "      <td>1.000000</td>\n",
       "      <td>0.674842</td>\n",
       "      <td>-0.674842</td>\n",
       "      <td>0.655186</td>\n",
       "      <td>0.272529</td>\n",
       "      <td>-0.036036</td>\n",
       "      <td>-0.055410</td>\n",
       "      <td>-0.006147</td>\n",
       "      <td>-0.168086</td>\n",
       "      <td>0.017590</td>\n",
       "      <td>0.041289</td>\n",
       "      <td>-0.008776</td>\n",
       "      <td>-0.030675</td>\n",
       "      <td>0.011226</td>\n",
       "      <td>-0.045959</td>\n",
       "    </tr>\n",
       "    <tr>\n",
       "      <th>koi_period_err1</th>\n",
       "      <td>0.674842</td>\n",
       "      <td>1.000000</td>\n",
       "      <td>-1.000000</td>\n",
       "      <td>0.469613</td>\n",
       "      <td>0.472034</td>\n",
       "      <td>-0.055134</td>\n",
       "      <td>-0.014447</td>\n",
       "      <td>0.005737</td>\n",
       "      <td>-0.140277</td>\n",
       "      <td>0.015100</td>\n",
       "      <td>0.033152</td>\n",
       "      <td>-0.008890</td>\n",
       "      <td>-0.005353</td>\n",
       "      <td>0.007145</td>\n",
       "      <td>-0.034097</td>\n",
       "    </tr>\n",
       "    <tr>\n",
       "      <th>koi_period_err2</th>\n",
       "      <td>-0.674842</td>\n",
       "      <td>-1.000000</td>\n",
       "      <td>1.000000</td>\n",
       "      <td>-0.469613</td>\n",
       "      <td>-0.472034</td>\n",
       "      <td>0.055134</td>\n",
       "      <td>0.014447</td>\n",
       "      <td>-0.005737</td>\n",
       "      <td>0.140277</td>\n",
       "      <td>-0.015100</td>\n",
       "      <td>-0.033152</td>\n",
       "      <td>0.008890</td>\n",
       "      <td>0.005353</td>\n",
       "      <td>-0.007145</td>\n",
       "      <td>0.034097</td>\n",
       "    </tr>\n",
       "    <tr>\n",
       "      <th>koi_time0bk</th>\n",
       "      <td>0.655186</td>\n",
       "      <td>0.469613</td>\n",
       "      <td>-0.469613</td>\n",
       "      <td>1.000000</td>\n",
       "      <td>0.162845</td>\n",
       "      <td>-0.030101</td>\n",
       "      <td>-0.001929</td>\n",
       "      <td>-0.031890</td>\n",
       "      <td>-0.107467</td>\n",
       "      <td>-0.004831</td>\n",
       "      <td>0.006444</td>\n",
       "      <td>0.011434</td>\n",
       "      <td>-0.016981</td>\n",
       "      <td>0.010483</td>\n",
       "      <td>0.021898</td>\n",
       "    </tr>\n",
       "    <tr>\n",
       "      <th>koi_time0bk_err1</th>\n",
       "      <td>0.272529</td>\n",
       "      <td>0.472034</td>\n",
       "      <td>-0.472034</td>\n",
       "      <td>0.162845</td>\n",
       "      <td>1.000000</td>\n",
       "      <td>-0.056111</td>\n",
       "      <td>-0.046285</td>\n",
       "      <td>0.035131</td>\n",
       "      <td>-0.116730</td>\n",
       "      <td>0.047142</td>\n",
       "      <td>0.068065</td>\n",
       "      <td>-0.042652</td>\n",
       "      <td>-0.003804</td>\n",
       "      <td>-0.009188</td>\n",
       "      <td>-0.041119</td>\n",
       "    </tr>\n",
       "    <tr>\n",
       "      <th>koi_steff_err2</th>\n",
       "      <td>-0.036036</td>\n",
       "      <td>-0.055134</td>\n",
       "      <td>0.055134</td>\n",
       "      <td>-0.030101</td>\n",
       "      <td>-0.056111</td>\n",
       "      <td>1.000000</td>\n",
       "      <td>0.064437</td>\n",
       "      <td>-0.152302</td>\n",
       "      <td>0.406832</td>\n",
       "      <td>0.023374</td>\n",
       "      <td>-0.054865</td>\n",
       "      <td>0.025996</td>\n",
       "      <td>-0.133620</td>\n",
       "      <td>0.015411</td>\n",
       "      <td>0.057210</td>\n",
       "    </tr>\n",
       "    <tr>\n",
       "      <th>koi_slogg</th>\n",
       "      <td>-0.055410</td>\n",
       "      <td>-0.014447</td>\n",
       "      <td>0.014447</td>\n",
       "      <td>-0.001929</td>\n",
       "      <td>-0.046285</td>\n",
       "      <td>0.064437</td>\n",
       "      <td>1.000000</td>\n",
       "      <td>-0.475257</td>\n",
       "      <td>0.023782</td>\n",
       "      <td>-0.650854</td>\n",
       "      <td>-0.635135</td>\n",
       "      <td>0.560525</td>\n",
       "      <td>-0.077364</td>\n",
       "      <td>0.059115</td>\n",
       "      <td>0.479006</td>\n",
       "    </tr>\n",
       "    <tr>\n",
       "      <th>koi_slogg_err1</th>\n",
       "      <td>-0.006147</td>\n",
       "      <td>0.005737</td>\n",
       "      <td>-0.005737</td>\n",
       "      <td>-0.031890</td>\n",
       "      <td>0.035131</td>\n",
       "      <td>-0.152302</td>\n",
       "      <td>-0.475257</td>\n",
       "      <td>1.000000</td>\n",
       "      <td>-0.240160</td>\n",
       "      <td>0.080111</td>\n",
       "      <td>0.217340</td>\n",
       "      <td>-0.191198</td>\n",
       "      <td>0.088301</td>\n",
       "      <td>-0.035741</td>\n",
       "      <td>-0.333466</td>\n",
       "    </tr>\n",
       "    <tr>\n",
       "      <th>koi_slogg_err2</th>\n",
       "      <td>-0.168086</td>\n",
       "      <td>-0.140277</td>\n",
       "      <td>0.140277</td>\n",
       "      <td>-0.107467</td>\n",
       "      <td>-0.116730</td>\n",
       "      <td>0.406832</td>\n",
       "      <td>0.023782</td>\n",
       "      <td>-0.240160</td>\n",
       "      <td>1.000000</td>\n",
       "      <td>0.050439</td>\n",
       "      <td>-0.166476</td>\n",
       "      <td>0.000039</td>\n",
       "      <td>-0.081768</td>\n",
       "      <td>-0.011361</td>\n",
       "      <td>-0.019689</td>\n",
       "    </tr>\n",
       "    <tr>\n",
       "      <th>koi_srad</th>\n",
       "      <td>0.017590</td>\n",
       "      <td>0.015100</td>\n",
       "      <td>-0.015100</td>\n",
       "      <td>-0.004831</td>\n",
       "      <td>0.047142</td>\n",
       "      <td>0.023374</td>\n",
       "      <td>-0.650854</td>\n",
       "      <td>0.080111</td>\n",
       "      <td>0.050439</td>\n",
       "      <td>1.000000</td>\n",
       "      <td>0.726436</td>\n",
       "      <td>-0.844701</td>\n",
       "      <td>0.040415</td>\n",
       "      <td>-0.033598</td>\n",
       "      <td>-0.175329</td>\n",
       "    </tr>\n",
       "    <tr>\n",
       "      <th>koi_srad_err1</th>\n",
       "      <td>0.041289</td>\n",
       "      <td>0.033152</td>\n",
       "      <td>-0.033152</td>\n",
       "      <td>0.006444</td>\n",
       "      <td>0.068065</td>\n",
       "      <td>-0.054865</td>\n",
       "      <td>-0.635135</td>\n",
       "      <td>0.217340</td>\n",
       "      <td>-0.166476</td>\n",
       "      <td>0.726436</td>\n",
       "      <td>1.000000</td>\n",
       "      <td>-0.680810</td>\n",
       "      <td>0.052780</td>\n",
       "      <td>-0.039541</td>\n",
       "      <td>-0.203018</td>\n",
       "    </tr>\n",
       "    <tr>\n",
       "      <th>koi_srad_err2</th>\n",
       "      <td>-0.008776</td>\n",
       "      <td>-0.008890</td>\n",
       "      <td>0.008890</td>\n",
       "      <td>0.011434</td>\n",
       "      <td>-0.042652</td>\n",
       "      <td>0.025996</td>\n",
       "      <td>0.560525</td>\n",
       "      <td>-0.191198</td>\n",
       "      <td>0.000039</td>\n",
       "      <td>-0.844701</td>\n",
       "      <td>-0.680810</td>\n",
       "      <td>1.000000</td>\n",
       "      <td>-0.050085</td>\n",
       "      <td>0.030047</td>\n",
       "      <td>0.165630</td>\n",
       "    </tr>\n",
       "    <tr>\n",
       "      <th>ra</th>\n",
       "      <td>-0.030675</td>\n",
       "      <td>-0.005353</td>\n",
       "      <td>0.005353</td>\n",
       "      <td>-0.016981</td>\n",
       "      <td>-0.003804</td>\n",
       "      <td>-0.133620</td>\n",
       "      <td>-0.077364</td>\n",
       "      <td>0.088301</td>\n",
       "      <td>-0.081768</td>\n",
       "      <td>0.040415</td>\n",
       "      <td>0.052780</td>\n",
       "      <td>-0.050085</td>\n",
       "      <td>1.000000</td>\n",
       "      <td>-0.024534</td>\n",
       "      <td>-0.001263</td>\n",
       "    </tr>\n",
       "    <tr>\n",
       "      <th>dec</th>\n",
       "      <td>0.011226</td>\n",
       "      <td>0.007145</td>\n",
       "      <td>-0.007145</td>\n",
       "      <td>0.010483</td>\n",
       "      <td>-0.009188</td>\n",
       "      <td>0.015411</td>\n",
       "      <td>0.059115</td>\n",
       "      <td>-0.035741</td>\n",
       "      <td>-0.011361</td>\n",
       "      <td>-0.033598</td>\n",
       "      <td>-0.039541</td>\n",
       "      <td>0.030047</td>\n",
       "      <td>-0.024534</td>\n",
       "      <td>1.000000</td>\n",
       "      <td>0.025746</td>\n",
       "    </tr>\n",
       "    <tr>\n",
       "      <th>koi_kepmag</th>\n",
       "      <td>-0.045959</td>\n",
       "      <td>-0.034097</td>\n",
       "      <td>0.034097</td>\n",
       "      <td>0.021898</td>\n",
       "      <td>-0.041119</td>\n",
       "      <td>0.057210</td>\n",
       "      <td>0.479006</td>\n",
       "      <td>-0.333466</td>\n",
       "      <td>-0.019689</td>\n",
       "      <td>-0.175329</td>\n",
       "      <td>-0.203018</td>\n",
       "      <td>0.165630</td>\n",
       "      <td>-0.001263</td>\n",
       "      <td>0.025746</td>\n",
       "      <td>1.000000</td>\n",
       "    </tr>\n",
       "  </tbody>\n",
       "</table>\n",
       "</div>"
      ],
      "text/plain": [
       "                  koi_period  koi_period_err1  koi_period_err2  koi_time0bk  \\\n",
       "koi_period          1.000000         0.674842        -0.674842     0.655186   \n",
       "koi_period_err1     0.674842         1.000000        -1.000000     0.469613   \n",
       "koi_period_err2    -0.674842        -1.000000         1.000000    -0.469613   \n",
       "koi_time0bk         0.655186         0.469613        -0.469613     1.000000   \n",
       "koi_time0bk_err1    0.272529         0.472034        -0.472034     0.162845   \n",
       "koi_steff_err2     -0.036036        -0.055134         0.055134    -0.030101   \n",
       "koi_slogg          -0.055410        -0.014447         0.014447    -0.001929   \n",
       "koi_slogg_err1     -0.006147         0.005737        -0.005737    -0.031890   \n",
       "koi_slogg_err2     -0.168086        -0.140277         0.140277    -0.107467   \n",
       "koi_srad            0.017590         0.015100        -0.015100    -0.004831   \n",
       "koi_srad_err1       0.041289         0.033152        -0.033152     0.006444   \n",
       "koi_srad_err2      -0.008776        -0.008890         0.008890     0.011434   \n",
       "ra                 -0.030675        -0.005353         0.005353    -0.016981   \n",
       "dec                 0.011226         0.007145        -0.007145     0.010483   \n",
       "koi_kepmag         -0.045959        -0.034097         0.034097     0.021898   \n",
       "\n",
       "                  koi_time0bk_err1  koi_steff_err2  koi_slogg  koi_slogg_err1  \\\n",
       "koi_period                0.272529       -0.036036  -0.055410       -0.006147   \n",
       "koi_period_err1           0.472034       -0.055134  -0.014447        0.005737   \n",
       "koi_period_err2          -0.472034        0.055134   0.014447       -0.005737   \n",
       "koi_time0bk               0.162845       -0.030101  -0.001929       -0.031890   \n",
       "koi_time0bk_err1          1.000000       -0.056111  -0.046285        0.035131   \n",
       "koi_steff_err2           -0.056111        1.000000   0.064437       -0.152302   \n",
       "koi_slogg                -0.046285        0.064437   1.000000       -0.475257   \n",
       "koi_slogg_err1            0.035131       -0.152302  -0.475257        1.000000   \n",
       "koi_slogg_err2           -0.116730        0.406832   0.023782       -0.240160   \n",
       "koi_srad                  0.047142        0.023374  -0.650854        0.080111   \n",
       "koi_srad_err1             0.068065       -0.054865  -0.635135        0.217340   \n",
       "koi_srad_err2            -0.042652        0.025996   0.560525       -0.191198   \n",
       "ra                       -0.003804       -0.133620  -0.077364        0.088301   \n",
       "dec                      -0.009188        0.015411   0.059115       -0.035741   \n",
       "koi_kepmag               -0.041119        0.057210   0.479006       -0.333466   \n",
       "\n",
       "                  koi_slogg_err2  koi_srad  koi_srad_err1  koi_srad_err2  \\\n",
       "koi_period             -0.168086  0.017590       0.041289      -0.008776   \n",
       "koi_period_err1        -0.140277  0.015100       0.033152      -0.008890   \n",
       "koi_period_err2         0.140277 -0.015100      -0.033152       0.008890   \n",
       "koi_time0bk            -0.107467 -0.004831       0.006444       0.011434   \n",
       "koi_time0bk_err1       -0.116730  0.047142       0.068065      -0.042652   \n",
       "koi_steff_err2          0.406832  0.023374      -0.054865       0.025996   \n",
       "koi_slogg               0.023782 -0.650854      -0.635135       0.560525   \n",
       "koi_slogg_err1         -0.240160  0.080111       0.217340      -0.191198   \n",
       "koi_slogg_err2          1.000000  0.050439      -0.166476       0.000039   \n",
       "koi_srad                0.050439  1.000000       0.726436      -0.844701   \n",
       "koi_srad_err1          -0.166476  0.726436       1.000000      -0.680810   \n",
       "koi_srad_err2           0.000039 -0.844701      -0.680810       1.000000   \n",
       "ra                     -0.081768  0.040415       0.052780      -0.050085   \n",
       "dec                    -0.011361 -0.033598      -0.039541       0.030047   \n",
       "koi_kepmag             -0.019689 -0.175329      -0.203018       0.165630   \n",
       "\n",
       "                        ra       dec  koi_kepmag  \n",
       "koi_period       -0.030675  0.011226   -0.045959  \n",
       "koi_period_err1  -0.005353  0.007145   -0.034097  \n",
       "koi_period_err2   0.005353 -0.007145    0.034097  \n",
       "koi_time0bk      -0.016981  0.010483    0.021898  \n",
       "koi_time0bk_err1 -0.003804 -0.009188   -0.041119  \n",
       "koi_steff_err2   -0.133620  0.015411    0.057210  \n",
       "koi_slogg        -0.077364  0.059115    0.479006  \n",
       "koi_slogg_err1    0.088301 -0.035741   -0.333466  \n",
       "koi_slogg_err2   -0.081768 -0.011361   -0.019689  \n",
       "koi_srad          0.040415 -0.033598   -0.175329  \n",
       "koi_srad_err1     0.052780 -0.039541   -0.203018  \n",
       "koi_srad_err2    -0.050085  0.030047    0.165630  \n",
       "ra                1.000000 -0.024534   -0.001263  \n",
       "dec              -0.024534  1.000000    0.025746  \n",
       "koi_kepmag       -0.001263  0.025746    1.000000  "
      ]
     },
     "execution_count": 37,
     "metadata": {},
     "output_type": "execute_result"
    }
   ],
   "source": [
    "selected_features.corr()"
   ]
  },
  {
   "cell_type": "code",
   "execution_count": 39,
   "metadata": {},
   "outputs": [
    {
     "data": {
      "text/plain": [
       "<AxesSubplot:>"
      ]
     },
     "execution_count": 39,
     "metadata": {},
     "output_type": "execute_result"
    },
    {
     "data": {
      "image/png": "[encoded data removed]",
      "text/plain": [
       "<Figure size 432x288 with 2 Axes>"
      ]
     },
     "metadata": {
      "needs_background": "light"
     },
     "output_type": "display_data"
    }
   ],
   "source": [
    "sns.heatmap(selected_features.corr(), cmap='RdYlGn')"
   ]
  },
  {
   "cell_type": "code",
   "execution_count": null,
   "metadata": {},
   "outputs": [],
   "source": [
    "# Check for null values\n",
    "df.info()"
   ]
  },
  {
   "cell_type": "code",
   "execution_count": null,
   "metadata": {},
   "outputs": [],
   "source": [
    "df.shape"
   ]
  },
  {
   "cell_type": "code",
   "execution_count": null,
   "metadata": {},
   "outputs": [],
   "source": [
    "df.isnull().sum()"
   ]
  },
  {
   "cell_type": "code",
   "execution_count": 25,
   "metadata": {},
   "outputs": [
    {
     "name": "stderr",
     "output_type": "stream",
     "text": [
      "C:\\Users\\Michelle H\\anaconda3\\envs\\PythonAdv\\lib\\site-packages\\seaborn\\_decorators.py:43: FutureWarning: Pass the following variable as a keyword arg: x. From version 0.12, the only valid positional argument will be `data`, and passing other arguments without an explicit keyword will result in an error or misinterpretation.\n",
      "  FutureWarning\n"
     ]
    },
    {
     "data": {
      "text/plain": [
       "<AxesSubplot:xlabel='koi_disposition', ylabel='count'>"
      ]
     },
     "execution_count": 25,
     "metadata": {},
     "output_type": "execute_result"
    },
    {
     "data": {
      "image/png": "[encoded data removed]",
      "text/plain": [
       "<Figure size 432x288 with 1 Axes>"
      ]
     },
     "metadata": {
      "needs_background": "light"
     },
     "output_type": "display_data"
    }
   ],
   "source": [
    "sns.countplot(df['koi_disposition'])"
   ]
  },
  {
   "cell_type": "code",
   "execution_count": null,
   "metadata": {},
   "outputs": [],
   "source": [
    "# Set features. This will also be used as your x values.\n"
   ]
  },
  {
   "cell_type": "markdown",
   "metadata": {},
   "source": [
    "# Create a Train Test Split\n",
    "\n",
    "Use `koi_disposition` for the y values"
   ]
  },
  {
   "cell_type": "code",
   "execution_count": 3,
   "metadata": {},
   "outputs": [
    {
     "name": "stdout",
     "output_type": "stream",
     "text": [
      "Shape:  (6991, 40) (6991,)\n"
     ]
    }
   ],
   "source": [
    "X = df.drop(\"koi_disposition\", axis=1)\n",
    "y = df[\"koi_disposition\"]\n",
    "print(\"Shape: \", X.shape, y.shape)"
   ]
  },
  {
   "cell_type": "code",
   "execution_count": 4,
   "metadata": {},
   "outputs": [],
   "source": [
    "\n",
    "X_train, X_test, y_train, y_test = train_test_split(X, y, random_state=1, stratify=y)"
   ]
  },
  {
   "cell_type": "code",
   "execution_count": null,
   "metadata": {},
   "outputs": [],
   "source": [
    "X_train.head()"
   ]
  },
  {
   "cell_type": "markdown",
   "metadata": {},
   "source": [
    "# Pre-processing\n",
    "\n",
    "Scale the data using the MinMaxScaler and perform some feature selection"
   ]
  },
  {
   "cell_type": "code",
   "execution_count": 5,
   "metadata": {},
   "outputs": [],
   "source": [
    "# scale the data\n",
    "X_scaler = MinMaxScaler().fit(X_train)\n"
   ]
  },
  {
   "cell_type": "code",
   "execution_count": 6,
   "metadata": {},
   "outputs": [],
   "source": [
    "X_train_scaled = X_scaler.transform(X_train)\n",
    "X_test_scaled = X_scaler.transform(X_test)\n"
   ]
  },
  {
   "cell_type": "markdown",
   "metadata": {},
   "source": [
    "# Train the Model\n",
    "\n"
   ]
  },
  {
   "cell_type": "code",
   "execution_count": null,
   "metadata": {},
   "outputs": [],
   "source": []
  },
  {
   "cell_type": "code",
   "execution_count": 7,
   "metadata": {},
   "outputs": [
    {
     "name": "stdout",
     "output_type": "stream",
     "text": [
      "k: 1, Train/Test Score: 1.000/0.796\n",
      "k: 3, Train/Test Score: 0.896/0.810\n",
      "k: 5, Train/Test Score: 0.873/0.825\n",
      "k: 7, Train/Test Score: 0.869/0.819\n",
      "k: 9, Train/Test Score: 0.857/0.820\n",
      "k: 11, Train/Test Score: 0.850/0.820\n",
      "k: 13, Train/Test Score: 0.849/0.817\n",
      "k: 15, Train/Test Score: 0.846/0.817\n",
      "k: 17, Train/Test Score: 0.842/0.814\n",
      "k: 19, Train/Test Score: 0.838/0.816\n",
      "k: 21, Train/Test Score: 0.837/0.818\n",
      "k: 23, Train/Test Score: 0.834/0.815\n",
      "k: 25, Train/Test Score: 0.833/0.812\n",
      "k: 27, Train/Test Score: 0.831/0.811\n",
      "k: 29, Train/Test Score: 0.830/0.813\n",
      "k: 31, Train/Test Score: 0.829/0.815\n",
      "k: 33, Train/Test Score: 0.829/0.819\n",
      "k: 35, Train/Test Score: 0.829/0.818\n",
      "k: 37, Train/Test Score: 0.829/0.815\n",
      "k: 39, Train/Test Score: 0.830/0.814\n",
      "k: 41, Train/Test Score: 0.830/0.814\n",
      "k: 43, Train/Test Score: 0.829/0.810\n",
      "k: 45, Train/Test Score: 0.830/0.812\n",
      "k: 47, Train/Test Score: 0.829/0.814\n",
      "k: 49, Train/Test Score: 0.830/0.816\n"
     ]
    }
   ],
   "source": [
    "# loop through different k values to see which has the highest accuracy using odd numbers to ensure no ties\n",
    "train_scores = []\n",
    "test_scores = []\n",
    "\n",
    "for k in range(1, 50, 2):\n",
    "    model = KNeighborsClassifier(n_neighbors=k)\n",
    "    model.fit(X_train_scaled, y_train)\n",
    "    train_score = model.score(X_train_scaled, y_train)\n",
    "    test_score = model.score(X_test_scaled, y_test)\n",
    "    train_scores.append(train_score)\n",
    "    test_scores.append(test_score)\n",
    "    print(f\"k: {k}, Train/Test Score: {train_score:.3f}/{test_score:.3f}\")"
   ]
  },
  {
   "cell_type": "code",
   "execution_count": 8,
   "metadata": {},
   "outputs": [
    {
     "data": {
      "image/png": "[encoded data removed]",
      "text/plain": [
       "<Figure size 432x288 with 1 Axes>"
      ]
     },
     "metadata": {
      "needs_background": "light"
     },
     "output_type": "display_data"
    }
   ],
   "source": [
    "# plot data    \n",
    "plt.plot(range(1, 50, 2), train_scores, marker='o')\n",
    "plt.plot(range(1, 50, 2), test_scores, marker=\"x\")\n",
    "plt.xlabel(\"k neighbors\")\n",
    "plt.ylabel(\"Testing accuracy Score\")\n",
    "plt.show()"
   ]
  },
  {
   "cell_type": "code",
   "execution_count": 18,
   "metadata": {},
   "outputs": [
    {
     "name": "stdout",
     "output_type": "stream",
     "text": [
      "Training Data Score: 0.8291\n",
      "Testing Data Score: 0.8192\n"
     ]
    }
   ],
   "source": [
    "# Note that k: 9 provides the best accuracy where the classifier starts to stablize\n",
    "model = KNeighborsClassifier(n_neighbors=33)\n",
    "model.fit(X_train_scaled, y_train)\n",
    "print(f\"Training Data Score: {model.score(X_train_scaled, y_train):.4f}\")\n",
    "print(f\"Testing Data Score: {model.score(X_test_scaled, y_test):.4f}\")\n"
   ]
  },
  {
   "cell_type": "code",
   "execution_count": 10,
   "metadata": {},
   "outputs": [],
   "source": [
    "# predict test data set\n",
    "y_pred = model.predict(X_test_scaled)\n"
   ]
  },
  {
   "cell_type": "code",
   "execution_count": 12,
   "metadata": {},
   "outputs": [
    {
     "name": "stdout",
     "output_type": "stream",
     "text": [
      "                precision    recall  f1-score   support\n",
      "\n",
      "     CANDIDATE       0.72      0.47      0.57       422\n",
      "     CONFIRMED       0.62      0.80      0.70       450\n",
      "FALSE POSITIVE       0.98      1.00      0.99       876\n",
      "\n",
      "      accuracy                           0.82      1748\n",
      "     macro avg       0.77      0.76      0.75      1748\n",
      "  weighted avg       0.82      0.82      0.81      1748\n",
      "\n"
     ]
    }
   ],
   "source": [
    "# check performance of model with classification report\n",
    "print(classification_report(y_test, y_pred))"
   ]
  },
  {
   "cell_type": "markdown",
   "metadata": {},
   "source": [
    "# Hyperparameter Tuning\n",
    "\n",
    "Use `GridSearchCV` to tune the model's parameters"
   ]
  },
  {
   "cell_type": "code",
   "execution_count": 17,
   "metadata": {},
   "outputs": [
    {
     "name": "stdout",
     "output_type": "stream",
     "text": [
      "{'n_neighbors': [1, 3, 5, 7, 9, 11, 13, 15, 17, 19, 21, 23, 25, 27, 29, 31, 33, 35, 37, 39, 41, 43, 45, 47, 49], 'weights': ['uniform', 'distance'], 'metric': ['euclidean', 'manhattan', 'minkowski']}\n"
     ]
    }
   ],
   "source": [
    "# example of grid searching key hyperparametres for KNeighborsClassifier\n",
    "n_range = []\n",
    "\n",
    "for i in range(1,50,2):\n",
    "    n_range.append(i)\n",
    "\n",
    "# define grid search\n",
    "param_grid = {'n_neighbors': n_range, \n",
    "              'weights': ['uniform', 'distance'], \n",
    "              'metric': ['euclidean', 'manhattan', 'minkowski']}\n"
   ]
  },
  {
   "cell_type": "code",
   "execution_count": 19,
   "metadata": {},
   "outputs": [],
   "source": [
    "grid = GridSearchCV(model, param_grid, n_jobs = -1, verbose = 3)\n"
   ]
  },
  {
   "cell_type": "code",
   "execution_count": 20,
   "metadata": {},
   "outputs": [
    {
     "name": "stdout",
     "output_type": "stream",
     "text": [
      "Fitting 5 folds for each of 150 candidates, totalling 750 fits\n"
     ]
    },
    {
     "name": "stderr",
     "output_type": "stream",
     "text": [
      "[Parallel(n_jobs=-1)]: Using backend LokyBackend with 4 concurrent workers.\n",
      "[Parallel(n_jobs=-1)]: Done  24 tasks      | elapsed:    9.1s\n",
      "[Parallel(n_jobs=-1)]: Done 120 tasks      | elapsed:   21.4s\n",
      "[Parallel(n_jobs=-1)]: Done 280 tasks      | elapsed:   43.6s\n",
      "[Parallel(n_jobs=-1)]: Done 504 tasks      | elapsed:  1.3min\n",
      "[Parallel(n_jobs=-1)]: Done 750 out of 750 | elapsed:  1.9min finished\n"
     ]
    },
    {
     "data": {
      "text/plain": [
       "GridSearchCV(estimator=KNeighborsClassifier(n_neighbors=33), n_jobs=-1,\n",
       "             param_grid={'metric': ['euclidean', 'manhattan', 'minkowski'],\n",
       "                         'n_neighbors': [1, 3, 5, 7, 9, 11, 13, 15, 17, 19, 21,\n",
       "                                         23, 25, 27, 29, 31, 33, 35, 37, 39, 41,\n",
       "                                         43, 45, 47, 49],\n",
       "                         'weights': ['uniform', 'distance']},\n",
       "             verbose=3)"
      ]
     },
     "execution_count": 20,
     "metadata": {},
     "output_type": "execute_result"
    }
   ],
   "source": [
    "# Train the model with GridSearch\n",
    "grid.fit(X_train_scaled, y_train)"
   ]
  },
  {
   "cell_type": "code",
   "execution_count": 21,
   "metadata": {},
   "outputs": [
    {
     "name": "stdout",
     "output_type": "stream",
     "text": [
      "{'metric': 'manhattan', 'n_neighbors': 37, 'weights': 'distance'}\n",
      "0.8407359972056266\n"
     ]
    }
   ],
   "source": [
    "print(grid.best_params_)\n",
    "print(grid.best_score_)"
   ]
  },
  {
   "cell_type": "code",
   "execution_count": 22,
   "metadata": {},
   "outputs": [],
   "source": [
    "# Make predictions with the hypertuned model\n",
    "predictions = grid.predict(X_test_scaled)"
   ]
  },
  {
   "cell_type": "code",
   "execution_count": 23,
   "metadata": {},
   "outputs": [
    {
     "name": "stdout",
     "output_type": "stream",
     "text": [
      "                precision    recall  f1-score   support\n",
      "\n",
      "     CANDIDATE       0.77      0.50      0.61       422\n",
      "     CONFIRMED       0.64      0.84      0.73       450\n",
      "FALSE POSITIVE       0.98      1.00      0.99       876\n",
      "\n",
      "      accuracy                           0.84      1748\n",
      "     macro avg       0.80      0.78      0.77      1748\n",
      "  weighted avg       0.84      0.84      0.83      1748\n",
      "\n"
     ]
    }
   ],
   "source": [
    "# check performance of model with classification report\n",
    "from sklearn.metrics import classification_report\n",
    "print(classification_report(y_test, predictions))"
   ]
  },
  {
   "cell_type": "code",
   "execution_count": 24,
   "metadata": {},
   "outputs": [
    {
     "name": "stdout",
     "output_type": "stream",
     "text": [
      "Training Data Score: 1.0000\n",
      "Testing Data Score: 0.8352\n"
     ]
    }
   ],
   "source": [
    "print(f\"Training Data Score: {grid.score(X_train_scaled, y_train):.4f}\")\n",
    "print(f\"Testing Data Score: {grid.score(X_test_scaled, y_test):.4f}\")"
   ]
  },
  {
   "cell_type": "markdown",
   "metadata": {},
   "source": [
    "# Save the Model"
   ]
  },
  {
   "cell_type": "code",
   "execution_count": null,
   "metadata": {},
   "outputs": [],
   "source": [
    "# save your model by updating \"your_name\" with your name\n",
    "# and \"your_model\" with your model variable\n",
    "# be sure to turn this in to BCS\n",
    "# if joblib fails to import, try running the command to install in terminal/git-bash\n",
    "import joblib\n",
    "filename = 'your_name.sav'\n",
    "joblib.dump(your_model, filename)"
   ]
  }
 ],
 "metadata": {
  "kernel_info": {
   "name": "dev"
  },
  "kernelspec": {
   "display_name": "Python [conda env:PythonAdv] *",
   "language": "python",
   "name": "conda-env-PythonAdv-py"
  },
  "language_info": {
   "codemirror_mode": {
    "name": "ipython",
    "version": 3
   },
   "file_extension": ".py",
   "mimetype": "text/x-python",
   "name": "python",
   "nbconvert_exporter": "python",
   "pygments_lexer": "ipython3",
   "version": "3.6.10"
  },
  "nteract": {
   "version": "0.12.3"
  }
 },
 "nbformat": 4,
 "nbformat_minor": 2
}
